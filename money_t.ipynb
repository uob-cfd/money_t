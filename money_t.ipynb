{
 "cells": [
  {
   "cell_type": "markdown",
   "metadata": {},
   "source": [
    "# Money, death and t\n",
    "\n",
    "\n",
    "\n",
    "We return, again, to the death penalty."
   ]
  },
  {
   "cell_type": "code",
   "execution_count": null,
   "metadata": {},
   "outputs": [],
   "source": [
    "# Array library.\n",
    "import numpy as np\n",
    "# Data frames library.\n",
    "import pandas as pd\n",
    "# Turn on a setting to use Pandas more safely.\n",
    "# We will discuss this setting later.\n",
    "pd.set_option('mode.chained_assignment', 'raise')\n",
    "# Set up plotting\n",
    "import matplotlib.pyplot as plt\n",
    "%matplotlib inline\n",
    "plt.style.use('fivethirtyeight')\n",
    "\n",
    "# Load the OKpy test library and tests.\n",
    "from client.api.notebook import Notebook\n",
    "ok = Notebook('money_t.ok')"
   ]
  },
  {
   "cell_type": "markdown",
   "metadata": {},
   "source": [
    "As revision, we are going to do a permutation test on the results from a\n",
    "sample of the US [General Social Survey](http://www.gss.norc.org) from 2002.\n",
    "\n",
    "See the `money_death` exercise for a longer form.  Here we jog through the steps to get the data we need."
   ]
  },
  {
   "cell_type": "code",
   "execution_count": null,
   "metadata": {},
   "outputs": [],
   "source": [
    "# Run this cell.\n",
    "# Read the data into a data frame\n",
    "# One row per respondent.\n",
    "gss = pd.read_csv('GSS2002.csv')\n",
    "\n",
    "# Recode the income column.\n",
    "def recode_income(value):\n",
    "    if pd.isna(value):  # Missing value\n",
    "        return np.nan\n",
    "    if value == 'under 1000':\n",
    "        return 500\n",
    "    low_str, high_str = value.split('-')\n",
    "    low, high = int(low_str), int(high_str)\n",
    "    return np.mean([low, high])\n",
    "\n",
    "# Get the columns of interest into their own data frame, and recode.\n",
    "money_death = pd.DataFrame()\n",
    "money_death['Income'] = gss['Income'].apply(recode_income)\n",
    "money_death['DeathPenalty'] = gss['DeathPenalty'].copy()\n",
    "# Drop all missing values.\n",
    "slim_md = money_death.dropna()\n",
    "# Show the first five rows.\n",
    "slim_md.head()"
   ]
  },
  {
   "cell_type": "markdown",
   "metadata": {},
   "source": [
    "Next fetch the income values for those in \"Favor\" of the death penalty, and for those who \"Oppose\".  Put them in arrays."
   ]
  },
  {
   "cell_type": "code",
   "execution_count": null,
   "metadata": {},
   "outputs": [],
   "source": [
    "# Run this cell\n",
    "income = slim_md['Income']\n",
    "death = slim_md['DeathPenalty']\n",
    "favor_income_arr = np.array(income[death == 'Favor'])\n",
    "oppose_income_arr = np.array(income[death == 'Oppose'])"
   ]
  },
  {
   "cell_type": "code",
   "execution_count": null,
   "metadata": {},
   "outputs": [],
   "source": [
    "# Show a histogram of the in-favor income values.\n",
    "plt.hist(favor_income_arr)"
   ]
  },
  {
   "cell_type": "code",
   "execution_count": null,
   "metadata": {},
   "outputs": [],
   "source": [
    "# Show a histogram of the oppose income values.\n",
    "plt.hist(oppose_income_arr)"
   ]
  },
  {
   "cell_type": "markdown",
   "metadata": {},
   "source": [
    "Calculate the difference in mean income between the groups.  This is the\n",
    "difference we observe."
   ]
  },
  {
   "cell_type": "code",
   "execution_count": null,
   "metadata": {},
   "outputs": [],
   "source": [
    "actual_diff = ...\n",
    "actual_diff"
   ]
  },
  {
   "cell_type": "code",
   "execution_count": null,
   "metadata": {},
   "outputs": [],
   "source": [
    "_ = ok.grade('q_8_actual_diff')"
   ]
  },
  {
   "cell_type": "markdown",
   "metadata": {},
   "source": [
    "Next, the permutation test."
   ]
  },
  {
   "cell_type": "code",
   "execution_count": null,
   "metadata": {},
   "outputs": [],
   "source": [
    "n_favor = ..."
   ]
  },
  {
   "cell_type": "code",
   "execution_count": null,
   "metadata": {},
   "outputs": [],
   "source": [
    "fake_differences = np.zeros(10000)\n",
    "for i in np.arange(10000):\n",
    "    # Permute the pooled incomes\n",
    "    shuffled = np.random.permutation(pooled)\n",
    "    # Make a fake favor sample\n",
    "    fake_favor = shuffled[:n_favor]\n",
    "    # Make a fake opposed sample\n",
    "    fake_oppose = shuffled[n_favor:]\n",
    "    # Calculate the mean difference for the fake samples\n",
    "    fake_diff = np.mean(fake_favor) - np.mean(fake_oppose)\n",
    "    # Put the mean difference into the fake_differences array.\n",
    "    fake_differences[i] = fake_diff\n",
    "# Show the first 10 fake differences\n",
    "fake_differences[:10]"
   ]
  },
  {
   "cell_type": "markdown",
   "metadata": {},
   "source": [
    "Do a histogram of the fake differences.  This is the *sampling distribution*\n",
    "of the *difference in means* in the ideal world (*null hypothesis*) of no\n",
    "difference in the income values in the underlying population."
   ]
  },
  {
   "cell_type": "code",
   "execution_count": null,
   "metadata": {},
   "outputs": [],
   "source": [
    "#- Do a histogram of the sampling distribution.\n",
    "..."
   ]
  },
  {
   "cell_type": "markdown",
   "metadata": {},
   "source": [
    "Show the proportion of the differences you calculated that were greater than or\n",
    "equal to the actual difference."
   ]
  },
  {
   "cell_type": "code",
   "execution_count": null,
   "metadata": {},
   "outputs": [],
   "source": [
    "p_fake_ge_actual = ...\n",
    "p_fake_ge_actual"
   ]
  },
  {
   "cell_type": "code",
   "execution_count": null,
   "metadata": {},
   "outputs": [],
   "source": [
    "_ = ok.grade('q_11_p_fake_ge_actual')"
   ]
  },
  {
   "cell_type": "markdown",
   "metadata": {},
   "source": [
    "This proportion gives an estimate of the probability of seeing a difference\n",
    "this large, if the incomes all come from the same underlying population."
   ]
  },
  {
   "cell_type": "markdown",
   "metadata": {},
   "source": [
    "## Compare to t\n",
    "\n",
    "Next calculate the permutation equivalent of the t-statistic.  This is the actual difference in means that you have above, divided by the standard deviation (`np.std`) of the sampling distribution.  Call permutation t equivalent `like_t`."
   ]
  },
  {
   "cell_type": "code",
   "execution_count": null,
   "metadata": {},
   "outputs": [],
   "source": [
    "like_t = ...\n",
    "# Show the result\n",
    "like_t"
   ]
  },
  {
   "cell_type": "code",
   "execution_count": null,
   "metadata": {},
   "outputs": [],
   "source": [
    "_ = ok.grade('q_like_t')"
   ]
  },
  {
   "cell_type": "markdown",
   "metadata": {},
   "source": [
    "Now calculate the actual t statistic.  Follow the recipe in the [permtuation\n",
    "and t test page](https://matthew-brett.github.io/cfd2020/permutation/permutation_and_t_test), to\n",
    "import the t-test routine from Scipy, and run it on the two arrays of values."
   ]
  },
  {
   "cell_type": "code",
   "execution_count": null,
   "metadata": {},
   "outputs": [],
   "source": [
    "#- Import the scipy t-test routine.\n",
    "from scipy... import ...\n",
    "#- Calculate the t result.\n",
    "t_result = ...\n",
    "#- Get the t-statistic from the result\n",
    "t_stat = ...\n",
    "# Show the t statistic as calculated by Scipy\n",
    "t_stat"
   ]
  },
  {
   "cell_type": "code",
   "execution_count": null,
   "metadata": {},
   "outputs": [],
   "source": [
    "_ = ok.grade('q_t_stat')"
   ]
  },
  {
   "cell_type": "markdown",
   "metadata": {},
   "source": [
    "The next step is to calculate the t-test t value step by step.\n",
    "\n",
    "Remember, the t test has a numerator that is the actual difference in means,\n",
    "divided by a denominator, which is an *estimate*, using some assumptions, of\n",
    "the *standard deviation of the sampling distribution*.\n",
    "\n",
    "The *t denominator* comprises two components.  The first we will calculate\n",
    "further below; it is an estimate of the variation left after subtracting the\n",
    "two group means.  The second is a bit arcane, and I've just given that part to\n",
    "you here:"
   ]
  },
  {
   "cell_type": "code",
   "execution_count": null,
   "metadata": {},
   "outputs": [],
   "source": [
    "# The number of respondents in the in-favor group.\n",
    "n1 = len(favor_income_arr)\n",
    "# The number of respondents in the oppose group.\n",
    "n2 = len(oppose_income_arr)\n",
    "# The second part of the denominator.\n",
    "second_part_of_denom = np.sqrt(1 / n1 + 1 / n2)\n",
    "second_part_of_denom"
   ]
  },
  {
   "cell_type": "markdown",
   "metadata": {},
   "source": [
    "Now for the first part.  To calculate it, you will need something called\n",
    "\"degrees of freedom\".  It's not worth going into what that means here, but here\n",
    "are the degrees of freedom in this case:"
   ]
  },
  {
   "cell_type": "code",
   "execution_count": null,
   "metadata": {},
   "outputs": [],
   "source": [
    "# Number of respondents in both groups, minus the number of means we use\n",
    "# for the subtractions below.\n",
    "degrees_of_freedom = n1 + n2 - 2\n",
    "degrees_of_freedom"
   ]
  },
  {
   "cell_type": "markdown",
   "metadata": {},
   "source": [
    "Now to finish the calculation of the first half of the denominator, do the\n",
    "following steps.  See the [permtuation and t test page](https://matthew-brett.github.io/cfd2020/permutation/permutation_and_t_test), for inspiration."
   ]
  },
  {
   "cell_type": "code",
   "execution_count": null,
   "metadata": {},
   "outputs": [],
   "source": [
    "#- Subtract the mean of the \"favor\" incomes from the \"favor_income_arr\" to\n",
    "#- give \"mc_favor_incomes\" (mc stands for mean-centered).\n",
    "mc_favor_incomes = ...\n",
    "#- Subtract the mean of the \"oppose\" incomes from the \"oppose_income_arr\" to\n",
    "#- give \"mc_oppose_incomes\".\n",
    "mc_oppose_incomes = ...\n",
    "#- Pool the two mc arrays and square each value.\n",
    "mc_pooled_squared = ...\n",
    "#- Sum the pooled squared values, divide by the degrees of freedom and take\n",
    "#- the square root of the result, to give the missing component of the\n",
    "#- denominator.\n",
    "first_part_of_denom = ...\n",
    "# Show the result.\n",
    "first_part_of_denom"
   ]
  },
  {
   "cell_type": "code",
   "execution_count": null,
   "metadata": {},
   "outputs": [],
   "source": [
    "_ = ok.grade('q_first_part_of_denom')"
   ]
  },
  {
   "cell_type": "markdown",
   "metadata": {},
   "source": [
    "The full denominator is the two parts, multiplied.  Remember that the t\n",
    "denominator is an estimate, using some assumptions, of the standard deviation\n",
    "of the sampling distribution.  Your permutation test also estimated the\n",
    "sampling distribution.  In the cell below you should see that the t denominator\n",
    "estimate and the permutation group estimate are pretty similar:"
   ]
  },
  {
   "cell_type": "code",
   "execution_count": null,
   "metadata": {},
   "outputs": [],
   "source": [
    "# Run this cell\n",
    "t_denom = first_part_of_denom * second_part_of_denom\n",
    "print('Standard deviation of sampling distribution')\n",
    "print('Permutation estimate', np.std(fake_differences))\n",
    "print('t-test estimate', t_denom)"
   ]
  },
  {
   "cell_type": "markdown",
   "metadata": {},
   "source": [
    "For reflection: why might these two estimates be different?\n",
    "\n",
    "Finally, calculate the t-test t value - the numerator (observed difference)\n",
    "divided by the denominator (estimate of standard deviation of observed\n",
    "difference)."
   ]
  },
  {
   "cell_type": "code",
   "execution_count": null,
   "metadata": {},
   "outputs": [],
   "source": [
    "#- Divide the numerator by the denominator to get \"calculated_t\"\n",
    "calculated_t = ...\n",
    "# Show the result\n",
    "calculated_t"
   ]
  },
  {
   "cell_type": "markdown",
   "metadata": {},
   "source": [
    "You should find this is the same (to many decimal places) as the result that\n",
    "Scipy calculated above."
   ]
  },
  {
   "cell_type": "code",
   "execution_count": null,
   "metadata": {},
   "outputs": [],
   "source": [
    "_ = ok.grade('q_calculated_t')"
   ]
  },
  {
   "cell_type": "markdown",
   "metadata": {},
   "source": [
    "Finally, we can use a function in Scipy to give a probability value to the t\n",
    "value.  Don't worry about remembering this function - we won't use it again in\n",
    "this course."
   ]
  },
  {
   "cell_type": "code",
   "execution_count": null,
   "metadata": {},
   "outputs": [],
   "source": [
    "# Show the t-test probability value\n",
    "# The Scipy statistics sub-module.\n",
    "import scipy.stats as sps\n",
    "# Using the Cumulative Distribution Function method of the t distribution, to\n",
    "# calculate the one-tailed p-value for the t test.\n",
    "t_p_value = 1 - sps.t.cdf(calculated_t, degrees_of_freedom)\n",
    "print('p value for t test', t_p_value)"
   ]
  },
  {
   "cell_type": "markdown",
   "metadata": {},
   "source": [
    "This will be similar to the p value estimate from the permutation test, that\n",
    "you calculated above."
   ]
  },
  {
   "cell_type": "code",
   "execution_count": null,
   "metadata": {},
   "outputs": [],
   "source": [
    "print('p value for permutation test', p_fake_ge_actual)"
   ]
  },
  {
   "cell_type": "markdown",
   "metadata": {},
   "source": [
    "For reflection: why might these two be different?"
   ]
  },
  {
   "cell_type": "markdown",
   "metadata": {},
   "source": [
    "## Done"
   ]
  },
  {
   "cell_type": "code",
   "execution_count": null,
   "metadata": {},
   "outputs": [],
   "source": [
    "# For your convenience, you can run this cell to run all the tests at once!\n",
    "import os\n",
    "_ = [ok.grade(q[:-3]) for q in os.listdir(\"tests\") if q.startswith('q')]"
   ]
  }
 ],
 "metadata": {
  "jupytext": {
   "split_at_heading": true,
   "text_representation": {
    "extension": ".Rmd",
    "format_name": "rmarkdown",
    "format_version": "1.1",
    "jupytext_version": "1.2.4"
   }
  },
  "kernelspec": {
   "display_name": "Python 3",
   "language": "python",
   "name": "python3"
  }
 },
 "nbformat": 4,
 "nbformat_minor": 4
}
